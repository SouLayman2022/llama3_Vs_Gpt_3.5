{
 "cells": [
  {
   "cell_type": "markdown",
   "metadata": {},
   "source": [
    "<div style=\"text-align:center; font-size:30px\">llama 3 Vs Chat GPT 3.5\n",
    "</br>\n",
    "<img src=\"./llama3_Vs_GPT_3_5.png\">\n",
    "</div>\n",
    "\n",
    "- # 1. Introduction :\n",
    "    - ### 1.1 Objective : \n",
    "        - This project aims and compare the responses from Two diffrent large language models : llama3 and Chat GPT 3.5 turbo\n",
    "    - ### 1.2 Specs :\n",
    "        -  llama3 : installed on local machine the latest 8b model @ 06/03/2024\n",
    "        -  Chat gpt : using a private API key, the model is gpt-3.5-turbo\n",
    "    - ### 1.3 Installation :\n",
    "        -  llama3 :\n",
    "            -  Link to Ollama tool : <a href=\"https://ollama.com/download\">Ollama</a>\n",
    "            -  Link to the llm model : <a href=\"https://ollama.com/library/llama3\">llama3</a>\n",
    "            -  After installing the ollama tool : download model by the following command\n",
    "                -  ollama run llama3\n",
    "        -  Gpt :\n",
    "            -  How to use gpt : you need to have a subscription to use their API\n",
    "            -  Call the OPENAI api : you need to add a payment method to avoid api limit reached error code 429\n",
    "                -  Click here <a href=\"https://platform.openai.com/playground\" >API Dashboard</a>\n",
    "                -  After the payment is added, go to usage section on left panel and see if the bar is green, which means you can call the api\n",
    "- # 2. Test Scenarios :\n",
    "    -  The <a href=\"https://github.com/SouLayman2022/llama3_Vs_Gpt_3.5\">repos</a> contains a page saved as a pdf, link to real website <a href=\"https://www.caranddriver.com/tesla/model-3\">link</A>              \n",
    "    -  We wwill be using both models to see which one of them gets the response right, in regards of the prompts at the end of this notebook\n",
    "    - The MODEL variable holds the llm models names, so comment llama3 if you want to use gpt, else leave it as is the run llama3 instead\n",
    "- # 3. Running the notebook :\n",
    "    - open the file PDF_RAG.ipynb on your IDE, Vscode... or use the command on cmd like this :\n",
    "        - git clone https://github.com/SouLayman2022/llama3_Vs_Gpt_3.5.git\n",
    "        - cd llama3_Vs_Gpt_3.5\n",
    "        - python -m venv llama3_requirements\n",
    "        - llama3_requirements\\Scripts\\ativate\n",
    "        - pip install -r requirements.txt\n",
    "        - jupyter notebook\n",
    "        - a web page contaning the noteboo will be shwon double click the : PDF_RAG.ipynb to open it\n",
    "        - after finishing running or twiking do following commands :\n",
    "            - pip freeze > requirements.txt ( save your installed packages )\n",
    "            - deactivate ( to opt out of venv )"
   ]
  },
  {
   "cell_type": "code",
   "execution_count": 1,
   "metadata": {},
   "outputs": [
    {
     "data": {
      "text/plain": [
       "\"Here's one:\\n\\nWhy don't scientists trust atoms?\\n\\nBecause they make up everything!\\n\\nHope that made you smile!\""
      ]
     },
     "execution_count": 1,
     "metadata": {},
     "output_type": "execute_result"
    }
   ],
   "source": [
    "import os\n",
    "from dotenv import load_dotenv\n",
    "from tqdm import tqdm # know my code progress\n",
    "#openai api\n",
    "from langchain_openai.chat_models import ChatOpenAI\n",
    "from langchain_openai.embeddings import OpenAIEmbeddings\n",
    "#llama3 locally\n",
    "from langchain_community.llms import Ollama\n",
    "from langchain_community.embeddings import OllamaEmbeddings\n",
    "\n",
    "load_dotenv()\n",
    "\n",
    "OPENAI_API_KEY = os.getenv(\"OPENAI_API_KEY\")\n",
    "\n",
    "# comment out the MODEL=\"llama3\", if you want to use llama3 else leave it as a comment and use GPT3.5\n",
    "MODEL = \"gpt-3.5-turbo\"\n",
    "MODEL = \"llama3\"\n",
    "\n",
    "\n",
    "if MODEL.startswith(\"gpt\"):\n",
    "    model = ChatOpenAI(api_key=OPENAI_API_KEY, model = MODEL)\n",
    "    embeddings = OpenAIEmbeddings()\n",
    "else:\n",
    "    model = Ollama(model=MODEL)\n",
    "    embeddings = OllamaEmbeddings(model=MODEL)\n",
    "\n",
    "model.invoke(\"tell me a joke\")"
   ]
  },
  {
   "cell_type": "code",
   "execution_count": 2,
   "metadata": {},
   "outputs": [
    {
     "data": {
      "text/plain": [
       "\"Here's one:\\n\\nWhy couldn't the bicycle stand up by itself?\\n\\nBecause it was two-tired!\\n\\nHope that made you laugh! Do you want to hear another one?\""
      ]
     },
     "execution_count": 2,
     "metadata": {},
     "output_type": "execute_result"
    }
   ],
   "source": [
    "from langchain_core.output_parsers import StrOutputParser\n",
    "\n",
    "parser = StrOutputParser()\n",
    "\n",
    "chain = model | parser\n",
    "chain.invoke (\"tell me a joke\") "
   ]
  },
  {
   "cell_type": "code",
   "execution_count": 3,
   "metadata": {},
   "outputs": [
    {
     "data": {
      "text/plain": [
       "[Document(page_content=\"Home / Tesla / M Mo od de el l  3 3\\n2024 Tesla Model 3\\nStarting at $40,630S SP PE EC CS SP PH HO OT TO OS S\\nTESLA20248 8/10\\nC/D RATINGOVERVIEWRANKWHAT'S NEWPRICINGEV MOTOR & PERFORMANCE0-60 TIMESUBSCRIBEREVIEWSNEWSWHAT'S MY CAR WORTH?BUYER'S GUIDE2024 Tesla Model 3 Review, Pricing, and Specs https://www.caranddriver.com/tesla/model-3\\n1 of 13 06/03/2024, 11:36\", metadata={'source': 'Tesla_3.pdf', 'page': 0}),\n",
       " Document(page_content=\"H HI IG GH HS S\\nEntertaining handling, speedy acceleration, one of the best small EVs for driving range.\\nL LO OW WS S\\nIrritating lack of physical controls for key functions, advertised range is diﬃcult to achieve, even\\nafter all these years the AutoPilot system still needs polish.\\nV VE ER RD DI IC CT T\\nIt's aﬀordable, desirable, and fun to drive, which makes the Model 3 an attractive prospect for those\\nswitching to EV motoring.\\nBY DREW DORIAN\\nO Ov ve er rv vi ie ew w\\nWith a sleek new look, an attractive estimated driving range, and an accessible price\\ntag, the 2024 Tesla Model 3 remains a compelling choice for new car buyers who\\nwant to go green. The electric sedan changed the rules of the game when it debuted\\nfor the 2017 model year, as it brought EV pricing down far enough to \\uf001t into the\\nbudgets of a broader swath of U.S. households. It's not perfect though; the Model 3\\nhas suﬀered from poor \\uf001t-and-\\uf001nish from the outset, its cabin is snug, and its\\nstandard equipment list is missing desirable features such as Apple CarPlay and\\nSiriusXM satellite radio. The Model 3 also lacks physical controls for almost all\\nfunctions. Aside from a steering wheel, pedals, and window switches, there are few\\nbuttons; to do simple things such as adjust the exterior mirrors or steering column\\nyou must interact with the large infotainment display on the dashboard.\\nUnfortunately for Tesla , a rash of rivals have launched an assault into its territory,\\nand they're making headway: the BMW i4 , Hyundai Ioniq 6 , and Polestar 2  all\\nprovide similar packages at similar prices with fewer compromises.\\nW Wh he er re e  T Th hi is s  V V e eh hi ic cl le e  R Ra an nk ks s2024 Tesla Model 3 Review, Pricing, and Specs https://www.caranddriver.com/tesla/model-3\\n2 of 13 06/03/2024, 11:36\", metadata={'source': 'Tesla_3.pdf', 'page': 1}),\n",
       " Document(page_content=\"# #4 4  i in n  B Be es st t  E El le ec ct tr ri ic c  C Ca ar rs s\\nH Hy yu un nd da ai i I Io on ni iq q  6 6\\nSTARTING AT: $ 38,650\\nB BM MW W i i4 4\\nSTARTING AT: $ 54,000\\nP Po ol le es st ta ar r P Po ol le es st ta ar r  2 2\\nSTARTING AT: $ 51,300\\nT Te es sl la a M Mo od de el l  3 3\\nSTARTING AT: $ 40,630\\nV Vo ol lk ks sw wa ag ge en n I ID D. .7 7\\nSTARTING AT: $ 50,000\\nF Fi ia at t 5 50 00 0e e\\nSTARTING AT: $ 34,095\\nW Wh ha at t' 's s  N Ne ew w  f fo or r  2 20 02 24 4? ?\\nThe Model 3 has received a welcome styling refresh for 2024 , complete with a\\nsleeker front end, a quieter cabin, and updated standard features. While the changes\\nto the Model 3's styling are small, they make a big impact, and the car looks fresher\\nand more upscale than before. The interior receives updated materials that are said\\nto be of better quality; Tesla also claims to have used more sound-deadening\\nmaterials and installed more acoustic glass to help drown out road noise. The\\nsteering wheel has been redesigned and the steering column sheds blinker and\\ntransmission-shifter stalks, while the seats wear a new perforated upholstery and\\nsupport ventilation for front-seat riders. Rear seat passengers are now treated to their\\nown 8.0-inch display with which to adjust climate controls or even watch Net\\uf002ix. The\\nModel 3 Performance also receives similar updates and now boasts 510 horsepower\\n(up from 455), 296 miles of estimated driving range, an adaptive suspension system,\\na dedicated Track driving mode, upgraded brakes, sport seats, and a staggered wheel\\nand tire setup.\\n1\\n2\\n3\\n4\\n5\\n62024 Tesla Model 3 Review, Pricing, and Specs https://www.caranddriver.com/tesla/model-3\\n3 of 13 06/03/2024, 11:36\", metadata={'source': 'Tesla_3.pdf', 'page': 2}),\n",
       " Document(page_content=\"P Pr ri ic ci in ng g  a an nd d  W Wh hi ic ch h  O On ne e  t to o  B Bu uy y\\nThe price of the 2024 Tesla Model 3 starts at $40,630 and goes up to $54,630\\ndepending on the trim and options.\\nStandard Range RWD $40,630Long Range AWD $49,130\\nPerformance $54,630\\n0 $10k $20k $30k $40k $50k $60k $70k $80k $90k\\nThe base trim level comes with just one motor driving the rear wheels, but all others\\nhave two motors and all-wheel drive. The base rear-wheel-drive model is a good\\nvalue, but its 272 miles of EPA-estimated driving range may not be enough to\\neliminate range anxiety for some drivers. We'd recommend the Long Range model\\nthat oﬀers an estimated 341 miles of driving per charge. All Model 3s come standard\\nwith heated and ventilated front seats, navigation, and Tesla's Autopilot semi-\\nautonomous driving system.\\nE EV V  M Mo ot to or r, ,  P Po ow we er r, ,  a an nd d  P Pe er rf fo or rm ma an nc ce e\\nAs with most EVs, the Model 3 gains speed quickly, smoothly, and almost silently,\\nwith the electric motor providing a strong punch from a stop. And it's fast—extremely\\nso in some trims. Like all Teslas, the Model 3 carries its battery under the \\uf002oor,\\nresulting in a low center of gravity. This helps it change direction crisply and feel\\nplanted and stable in corners. The steering is accurate and well-weighted, with three\\ndiﬀerent settings that adjust the level of steering eﬀort. The ride is \\uf001rm without being\\nharsh; without the noise of a gas-powered engine, however, you do hear plenty of\\nroad noise inside the cabin as the tires thwack and thrum over pavement\\nimperfections. The new-for-2024 Performance trim ups the ante with a host of\\nupgrades. This model is the only Model 3 that comes with a sport-tuned suspension\\nwith adaptive dampers. The Performance model's all-wheel drive powertrain pumps\\nout a combined 510 horsepower and Tesla has upgraded the brakes and installed a2024 Tesla Model 3 Review, Pricing, and Specs https://www.caranddriver.com/tesla/model-3\\n4 of 13 06/03/2024, 11:36\", metadata={'source': 'Tesla_3.pdf', 'page': 3}),\n",
       " Document(page_content=\"staggered set of wheels and tires.\\n0–60-MPH Times\\nThe 60 mph time for the Model 3 Long Range in our test was 4.1 seconds . We have\\nnot tested the entry-level Model 3, which comes with a single electric motor and rear-\\nwheel drive, but it is expected to be a bit slower than the all-wheel drive Long Range\\nmodel. The 2024 Performance trim has more power than the pre-facelift version and\\nTesla claims a 60 mph of just 2.9 seconds. When we get a chance to test that claim\\nfor ourselves, we'll update this story with details.\\nTESLA\\nM MO OR RE E  O ON N  T TH HE E  M MO OD DE EL L  3 3  S SE ED DA AN N\\n2024 Tesla Model 3 Performance Boasts 510 HP\\n2024 Tesla Model 3 Review, Pricing, and Specs https://www.caranddriver.com/tesla/model-3\\n5 of 13 06/03/2024, 11:36\", metadata={'source': 'Tesla_3.pdf', 'page': 4}),\n",
       " Document(page_content=\"Updated 2024 Tesla Model 3 Now A vailable in U.S.\\nUpdated Tesla Model 3 Coming to Europe. U.S. Next?\\nR Ra an ng ge e, ,  C Ch ha ar rg gi in ng g, ,  a an nd d  B Ba at tt te er ry y  L Li if fe e\\nThree distinct Model 3 trims are oﬀered, each with a diﬀerent estimated driving\\nrange. The base rear-wheel-drive model is the most aﬀordable, with a claimed range\\nof 272 miles. Upgrading to the Long Range model increases the Model 3's estimated\\nrange to 341 miles. (If you opt for the extra-cost 19-inch wheels, the estimated range\\nnumbers are lower.) The Model 3 Performance sacri\\uf001ces some of the range for more\\npower, but its estimated range is still pretty good at 296 miles per charge. Of course,\\nthis distance isn't easy to achieve, as we found in our long-term Long Range Model3 test vehicle . The Model 3 oﬀers several diﬀerent options for charging: Tesla's\\nnetwork of fast-charging stations called Superchargers, adapters for DC public-\\ncharging stations, 240- and 120-volt outlets, and a home-charging station.\\nF Fu ue el l  E Ec co on no om my y  a an nd d  R Re ea al l- -W Wo or rl ld d  M MP PG Ge e\\nThe various versions of the Model 3 are rated between 113 MPGe and 138 MPGe by\\nthe EPA. Our test vehicle, however, managed only 84 MPGe when we took it on our75-mph highway fuel economy test . The Model 3 comes standard with aluminum\\nwheels that are covered by plastic aerodynamic hubcaps. We wanted to know how\\nmuch impact those hubcaps have on the car's driving range, so we tested it and were\\nsurprised to \\uf001nd that they helped more than expected . For more information about\\nthe Model 3's fuel economy, visit the EPA's website .2024 Tesla Model 3 Review, Pricing, and Specs https://www.caranddriver.com/tesla/model-3\\n6 of 13 06/03/2024, 11:36\", metadata={'source': 'Tesla_3.pdf', 'page': 5}),\n",
       " Document(page_content=\"I In nt te er ri io or r, ,  C Co om mf fo or rt t, ,  a an nd d  C Ca ar rg go o\\nWe're not exaggerating when we say that the Tesla Model 3 has an interior unlikeany other car  on the market today. It's shockingly simple inside, with nearly\\neverything controlled by the monolithic touchscreen in the center of the dashboard.\\nButtons on the steering wheel control things like the exterior side view mirrors, the\\nposition of the steering column, and even the turn signals—and we wish those\\ncontrols were of the conventional design instead. The Tesla's low, \\uf002at \\uf002oor makes for\\na spacious and airy feel inside. The front seats are supportive and comfortable, but\\nthe rear seats are positioned low and are cramped and uncomfortable; don't expect\\nadults to be able to spend long periods of time in them. Folding the 60/40 split-\\nfolding rear seats is simple and expands the trunk space considerably. The Model 3's\\nseatbacks fold \\uf002at, too, providing an uninterrupted cargo \\uf002oor for hauling larger\\nitems. With the rear seats folded, the Model 3 provides enough room for 15 carry-on\\nsuitcases. There are also generously sized bins and cubbies throughout the cabin.\\nTESLA2024 Tesla Model 3 Review, Pricing, and Specs https://www.caranddriver.com/tesla/model-3\\n7 of 13 06/03/2024, 11:36\", metadata={'source': 'Tesla_3.pdf', 'page': 6}),\n",
       " Document(page_content=\"T TH HE E  C CA AR R  A AN ND D  D DR RI IV VE ER R  D DI IF FF FE ER RE EN NC CE E\\nWhy We Test: Every Number Tells a Story\\nOur Comprehensive Car Testing Explained\\nWhy We Test EVs the Way We Do\\nI In nf fo ot ta ai in nm me en nt t  a an nd d  C Co on nn ne ec ct ti iv vi it ty y\\nNavigation, Bluetooth, and USB connectivity are standard, but the Model 3 is, oddly,\\nnot available with AM radio or SiriusXM satellite radio. Several internet-streaming\\nradio options are standard. It also can't be equipped with Android Auto or Apple\\nCarPlay. To make charging-station layovers more bearable, the Model 3 oﬀers plenty\\nof entertainment options  on its central display, including Net\\uf002ix, YouTube, and a\\nhost of arcade games. Mounted to the rear of the center console is an 8.0-inch\\ntouchscreen that provides rear-seat passengers access to climate control and\\ninfotainment features.\\nH HO OW W  T TO O  B BU UY Y  A AN ND D  M MA AI IN NT TA AI IN N  A A  C CA AR R\\nHow to Buy or Lease a New Car2024 Tesla Model 3 Review, Pricing, and Specs https://www.caranddriver.com/tesla/model-3\\n8 of 13 06/03/2024, 11:36\", metadata={'source': 'Tesla_3.pdf', 'page': 7}),\n",
       " Document(page_content=\"How to Buy a Used Car\\nHow to Repair, Maintain, and Care for Y our Car\\nS Sa af fe et ty y  a an nd d  D Dr ri iv ve er r- -A As ss si is st ta an nc ce e  F Fe ea at tu ur re es s\\nOverall Safety Rating (NHTSA)View Crash Test Results\\nAlthough we question whether the name Autopilot is misleading, the driver-assistsystem  has one of the best feature sets in the industry, with smooth operation and\\nimpressive capabilities such as automatic lane changes. For more information about\\nthe Model 3's crash-test results, visit the National Highway Traﬃc Safety\\nAdministration ( NHTSA ) and Insurance Institute for Highway Safety ( IIHS) websites.\\nKey safety features include:\\n• Standard automated emergency braking\\n• Standard lane-departure warning\\n• Standard adaptive cruise control\\nW Wa ar rr ra an nt ty y  a an nd d  M Ma ai in nt te en na an nc ce e  C Co ov ve er ra ag ge e\\nTesla's overall warranty coverage is among the longest in the EV segment, but it's\\ndisappointing that the coverage doesn't include corrosion protection. The Long Range\\nmodel includes an additional 20,000 miles on the coverage period of its battery and2024 Tesla Model 3 Review, Pricing, and Specs https://www.caranddriver.com/tesla/model-3\\n9 of 13 06/03/2024, 11:36\", metadata={'source': 'Tesla_3.pdf', 'page': 8}),\n",
       " Document(page_content='drive components.\\n• Limited warranty covers four years or 50,000 miles\\n• Powertrain warranty covers eight years or 100,000 miles\\n• No complimentary scheduled maintenance\\nM MO OR RE E  F FE EA AT TU UR RE ES S  A AN ND D  S SP PE EC CS SSpeciﬁcations\\n2 20 01 19 9  T Te es sl la a  M Mo od de el l  3 3  L Lo on ng g  R Ra an ng ge e\\nVehicle Type: front- and mid-motor, all-\\nwheel-drive, 5-passenger, 4-door sedan\\nP PR RI IC CE E\\nBase/As Tested: $49,690/$57,690\\nP PO OW WE ER RT TR RA AI IN N\\nFront: induction AC motor, 184 hp, 177\\nlb-ft;\\nRear: permanent-magnet synchronous AC\\nmotor, 241 hp, 298 lb-ft; 80.5-kWhlithium-ion battery packCurb Weight: 4038 lb\\nC C/ /D D\\nT TE ES ST T  R RE ES SU UL LT TS S\\n60 mph: 4.1 sec\\n100 mph: 9.7 sec\\n1/4-Mile: 12.6 sec @ 112 mph\\n130 mph: 18.1 sec\\nResults above omit 1 1- -f ft t  r ro ol ll lo ou ut t  of 0.3 sec.\\nRolling Start, 5–60 mph: 4.2 sec\\nTop Gear, 30–50 mph: 1.6 sec\\nTop Gear, 50–70 mph: 2.1 secTop Speed (gov ltd): 145 mphExpandSHOPPING TOOLS2024 Tesla Model 3 Review, Pricing, and Specs https://www.caranddriver.com/tesla/model-3\\n10 of 13 06/03/2024, 11:36', metadata={'source': 'Tesla_3.pdf', 'page': 9}),\n",
       " Document(page_content=\"W Wh ha at t' 's s  M My y\\nC Ca ar r  W Wo or rt th h? ?\\nCar and Driver values\\nare calculated from the\\nsame Black Book®\\ndata dealers use to\\nappraise vehicles.G GE ET T  E ES ST TI IM MA AT TE EI In ns su ur ra an nc ce e\\nM Ma ar rk ke et tp pl la ac ce e\\nSee what you can save\\non car insurance.L LE EA AR RN N  M MO OR RE EA Au ut to o  L Lo oa an ns s  & &\\nF Fi in na an nc ci in ng g\\nOur \\uf001nance experts\\nanswer any questions\\nyou may have about\\n\\uf001nancing a vehicle.L LE EA AR RN N  M MO OR RE E\\nSIMILAR VEHICLES2024 Tesla Model 3 Review, Pricing, and Specs https://www.caranddriver.com/tesla/model-3\\n11 of 13 06/03/2024, 11:36\", metadata={'source': 'Tesla_3.pdf', 'page': 10}),\n",
       " Document(page_content='2024 Hyundai Ioni…1 10 0/ /1 10 0\\nC/D RATING\\n$ $3 38 8, ,6 65 50 0\\n2 24 40 0– –3 36 61 1 miles\\nC C/ /D D  S SA AY YS S: :  The Ioniq 6 sedan is one \\nof our favorite electric vehicles, with \\nstrong performance, a long driving \\nrange, and a fantastic design inside \\nand out. Learn More\\nStarting at\\nEPA Est. Range\\nEXPAND ALL MODEL YEARS\\n2025 BMW i41 10 0/ /1 10 0\\nC/D RATING\\n$ $5 54 4, ,0 00 00 0  est\\nN N/ /A A\\nC C/ /D D  S SA AY YS S: :  With a variety of power \\noptions, decent range, and a quiet, \\ncomfortable cabin, the i4 is a \\npurposeful sedan that just happens \\nto be an EV . Learn More\\nStarting at\\nEPA Est. Range\\nEXPAND ALL MODEL YEARS\\n2024 Polestar 2\\n$ $5 51 1, ,3 30 00 02 27 76 6– –3 32 20 0C C/ /D D  S SA AY YS S: :  EV hatchback that evolves inmore tempting Tesla alternaevery year thanks to updates\\uf001ne-tuning. \\nStarting atEPA Est. Range\\nEXPAND ALL MODEL YMORE FROM TESLA2024 Tesla Model 3 Review, Pricing, and Specs https://www.caranddriver.com/tesla/model-3\\n12 of 13 06/03/2024, 11:36', metadata={'source': 'Tesla_3.pdf', 'page': 11}),\n",
       " Document(page_content='2024 Tesla Cybert…8 8. .5 5 / /1 10 0\\nC/D RATING\\n$ $8 81 1, ,8 89 95 5\\n3 32 20 0– –3 34 40 0 miles\\nC C/ /D D  S SA AY YS S: :  The Tesla Cybertruck \\nlooks like it was dropped oﬀ by an \\nalien race, but it has the capabilities \\nto challenge all of the top-selling \\npickup trucks. Learn More\\nStarting at\\nEPA Est. Range\\n2026 Tesla Roadster\\n$ $2 20 00 0, ,0 00 00 0  est\\nN N/ /A A\\nC C/ /D D  S SA AY YS S: :  Expected to make its \\nreturn to the lineup for the 2026 \\nmodel year, the new Tesla Roadster \\npicks up where the old model left oﬀ.\\nLearn More\\nStarting at\\nEPA Est. Range\\n2024 Tesla Model S\\n$ $7 74 4, ,6 63 30 03 35 59 9– –4 40 02 2C C/ /D D  S SA AY YS S: :  Model S has fallen behind nrivals with more luxury featuremains a compelling choicelong driving range.\\nStarting atEPA Est. Range\\nEXPAND ALL MODEL Y2024 Tesla Model 3 Review, Pricing, and Specs https://www.caranddriver.com/tesla/model-3\\n13 of 13 06/03/2024, 11:36', metadata={'source': 'Tesla_3.pdf', 'page': 12})]"
      ]
     },
     "execution_count": 3,
     "metadata": {},
     "output_type": "execute_result"
    }
   ],
   "source": [
    "from langchain_community.document_loaders import PyPDFLoader\n",
    "\n",
    "loader = PyPDFLoader(\"Tesla_3.pdf\")\n",
    "pages = loader.load_and_split()\n",
    "pages"
   ]
  },
  {
   "cell_type": "code",
   "execution_count": 4,
   "metadata": {},
   "outputs": [
    {
     "name": "stdout",
     "output_type": "stream",
     "text": [
      "\n",
      "Answer the question based on the context below. if you can't\n",
      "Answer the question. reply \"Sorry i don't know the answer, try contacting admin / soulayman or looking on web for answers\"\n",
      "\n",
      "Context: Here is some context\n",
      "\n",
      "Question:Here is a question\n",
      "\n"
     ]
    }
   ],
   "source": [
    "from langchain.prompts import PromptTemplate\n",
    "\n",
    "template = \"\"\"\n",
    "Answer the question based on the context below. if you can't\n",
    "Answer the question. reply \"Sorry i don't know the answer, try contacting admin / soulayman or looking on web for answers\"\n",
    "\n",
    "Context: {context}\n",
    "\n",
    "Question:{question}\n",
    "\"\"\"\n",
    "\n",
    "prompt = PromptTemplate.from_template(template)\n",
    "print(prompt.format(context=\"Here is some context\", question=\"Here is a question\"))"
   ]
  },
  {
   "cell_type": "code",
   "execution_count": 5,
   "metadata": {},
   "outputs": [],
   "source": [
    "chain = prompt | model | parser"
   ]
  },
  {
   "cell_type": "code",
   "execution_count": 6,
   "metadata": {},
   "outputs": [
    {
     "data": {
      "text/plain": [
       "{'title': 'PromptInput',\n",
       " 'type': 'object',\n",
       " 'properties': {'context': {'title': 'Context', 'type': 'string'},\n",
       "  'question': {'title': 'Question', 'type': 'string'}}}"
      ]
     },
     "execution_count": 6,
     "metadata": {},
     "output_type": "execute_result"
    }
   ],
   "source": [
    "#chain schema explained\n",
    "chain.input_schema.schema()"
   ]
  },
  {
   "cell_type": "code",
   "execution_count": 7,
   "metadata": {},
   "outputs": [
    {
     "data": {
      "text/plain": [
       "\"I've got this one!\\n\\nYou are Soulayman, and you're the admin!\""
      ]
     },
     "execution_count": 7,
     "metadata": {},
     "output_type": "execute_result"
    }
   ],
   "source": [
    "chain.invoke(\n",
    "    {\n",
    "        \"context\": \"My name is Soulayman, i'm the admin\",\n",
    "        \"question\": \"Who am i, and what i do?\"\n",
    "    }\n",
    ")"
   ]
  },
  {
   "cell_type": "code",
   "execution_count": 8,
   "metadata": {},
   "outputs": [
    {
     "data": {
      "text/plain": [
       "\"I'd be happy to help!\\n\\nSince your current age is 27 and you're asking what your age will be after 10 years, that means we need to add 10 to your current age.\\n\\n27 + 10 = 37\\n\\nSo, after 10 years, you'll be 37 years old!\""
      ]
     },
     "execution_count": 8,
     "metadata": {},
     "output_type": "execute_result"
    }
   ],
   "source": [
    "chain.invoke(\n",
    "    {\n",
    "        \"context\": \"My age is 27 after 10 years how old ma i\",\n",
    "        \"question\": \"answer the question\"\n",
    "    }\n",
    ")"
   ]
  },
  {
   "cell_type": "code",
   "execution_count": 9,
   "metadata": {},
   "outputs": [],
   "source": [
    "from langchain_community.vectorstores import DocArrayInMemorySearch\n",
    "\n",
    "vectorstore = DocArrayInMemorySearch.from_documents(\n",
    "        pages,\n",
    "        embedding = embeddings\n",
    "    )"
   ]
  },
  {
   "cell_type": "code",
   "execution_count": 10,
   "metadata": {},
   "outputs": [
    {
     "data": {
      "text/plain": [
       "[Document(page_content=\"I In nt te er ri io or r, ,  C Co om mf fo or rt t, ,  a an nd d  C Ca ar rg go o\\nWe're not exaggerating when we say that the Tesla Model 3 has an interior unlikeany other car  on the market today. It's shockingly simple inside, with nearly\\neverything controlled by the monolithic touchscreen in the center of the dashboard.\\nButtons on the steering wheel control things like the exterior side view mirrors, the\\nposition of the steering column, and even the turn signals—and we wish those\\ncontrols were of the conventional design instead. The Tesla's low, \\uf002at \\uf002oor makes for\\na spacious and airy feel inside. The front seats are supportive and comfortable, but\\nthe rear seats are positioned low and are cramped and uncomfortable; don't expect\\nadults to be able to spend long periods of time in them. Folding the 60/40 split-\\nfolding rear seats is simple and expands the trunk space considerably. The Model 3's\\nseatbacks fold \\uf002at, too, providing an uninterrupted cargo \\uf002oor for hauling larger\\nitems. With the rear seats folded, the Model 3 provides enough room for 15 carry-on\\nsuitcases. There are also generously sized bins and cubbies throughout the cabin.\\nTESLA2024 Tesla Model 3 Review, Pricing, and Specs https://www.caranddriver.com/tesla/model-3\\n7 of 13 06/03/2024, 11:36\", metadata={'source': 'Tesla_3.pdf', 'page': 6}),\n",
       " Document(page_content='2024 Tesla Cybert…8 8. .5 5 / /1 10 0\\nC/D RATING\\n$ $8 81 1, ,8 89 95 5\\n3 32 20 0– –3 34 40 0 miles\\nC C/ /D D  S SA AY YS S: :  The Tesla Cybertruck \\nlooks like it was dropped oﬀ by an \\nalien race, but it has the capabilities \\nto challenge all of the top-selling \\npickup trucks. Learn More\\nStarting at\\nEPA Est. Range\\n2026 Tesla Roadster\\n$ $2 20 00 0, ,0 00 00 0  est\\nN N/ /A A\\nC C/ /D D  S SA AY YS S: :  Expected to make its \\nreturn to the lineup for the 2026 \\nmodel year, the new Tesla Roadster \\npicks up where the old model left oﬀ.\\nLearn More\\nStarting at\\nEPA Est. Range\\n2024 Tesla Model S\\n$ $7 74 4, ,6 63 30 03 35 59 9– –4 40 02 2C C/ /D D  S SA AY YS S: :  Model S has fallen behind nrivals with more luxury featuremains a compelling choicelong driving range.\\nStarting atEPA Est. Range\\nEXPAND ALL MODEL Y2024 Tesla Model 3 Review, Pricing, and Specs https://www.caranddriver.com/tesla/model-3\\n13 of 13 06/03/2024, 11:36', metadata={'source': 'Tesla_3.pdf', 'page': 12}),\n",
       " Document(page_content=\"How to Buy a Used Car\\nHow to Repair, Maintain, and Care for Y our Car\\nS Sa af fe et ty y  a an nd d  D Dr ri iv ve er r- -A As ss si is st ta an nc ce e  F Fe ea at tu ur re es s\\nOverall Safety Rating (NHTSA)View Crash Test Results\\nAlthough we question whether the name Autopilot is misleading, the driver-assistsystem  has one of the best feature sets in the industry, with smooth operation and\\nimpressive capabilities such as automatic lane changes. For more information about\\nthe Model 3's crash-test results, visit the National Highway Traﬃc Safety\\nAdministration ( NHTSA ) and Insurance Institute for Highway Safety ( IIHS) websites.\\nKey safety features include:\\n• Standard automated emergency braking\\n• Standard lane-departure warning\\n• Standard adaptive cruise control\\nW Wa ar rr ra an nt ty y  a an nd d  M Ma ai in nt te en na an nc ce e  C Co ov ve er ra ag ge e\\nTesla's overall warranty coverage is among the longest in the EV segment, but it's\\ndisappointing that the coverage doesn't include corrosion protection. The Long Range\\nmodel includes an additional 20,000 miles on the coverage period of its battery and2024 Tesla Model 3 Review, Pricing, and Specs https://www.caranddriver.com/tesla/model-3\\n9 of 13 06/03/2024, 11:36\", metadata={'source': 'Tesla_3.pdf', 'page': 8}),\n",
       " Document(page_content=\"Home / Tesla / M Mo od de el l  3 3\\n2024 Tesla Model 3\\nStarting at $40,630S SP PE EC CS SP PH HO OT TO OS S\\nTESLA20248 8/10\\nC/D RATINGOVERVIEWRANKWHAT'S NEWPRICINGEV MOTOR & PERFORMANCE0-60 TIMESUBSCRIBEREVIEWSNEWSWHAT'S MY CAR WORTH?BUYER'S GUIDE2024 Tesla Model 3 Review, Pricing, and Specs https://www.caranddriver.com/tesla/model-3\\n1 of 13 06/03/2024, 11:36\", metadata={'source': 'Tesla_3.pdf', 'page': 0})]"
      ]
     },
     "execution_count": 10,
     "metadata": {},
     "output_type": "execute_result"
    }
   ],
   "source": [
    "retriever = vectorstore.as_retriever()\n",
    "\n",
    "retriever.invoke(\"Tesla model 3\")"
   ]
  },
  {
   "cell_type": "code",
   "execution_count": 11,
   "metadata": {},
   "outputs": [
    {
     "data": {
      "text/plain": [
       "'Based on the provided context, it appears that Tesla Model 3 is an electric vehicle with a starting price of $40,630. It has various trim levels and options, including the Performance trim which boasts 510 HP and a 0-60 mph time of just 2.9 seconds. The article also discusses its features, range, and pricing in comparison to other electric vehicles on the market.'"
      ]
     },
     "execution_count": 11,
     "metadata": {},
     "output_type": "execute_result"
    }
   ],
   "source": [
    "from operator import itemgetter\n",
    "\n",
    "chain = (\n",
    "    {\n",
    "        \"context\": itemgetter(\"question\") | retriever,\n",
    "        \"question\": itemgetter(\"question\")\n",
    "     }\n",
    "    | prompt\n",
    "    | model\n",
    "    | parser\n",
    ")\n",
    "\n",
    "chain.invoke({\"question\" : \"What is Tesla model 3?\"})"
   ]
  },
  {
   "cell_type": "code",
   "execution_count": 12,
   "metadata": {},
   "outputs": [
    {
     "name": "stdout",
     "output_type": "stream",
     "text": [
      "Question : What topic the document is about ?\n",
      "Answer: Based on the context, I can confidently say that the topic of the document is about the Tesla Model 3, specifically the 2024 model, its features, specifications, and review. The document appears to be a car review or specification sheet for the Tesla Model 3.\n",
      "\n",
      "##############################\n",
      "Question : What is the name of the website in the document ?\n",
      "Answer: According to the context, the website mentioned in the document is:\n",
      "\n",
      "https://www.caranddriver.com/\n",
      "\n",
      "This is mentioned multiple times throughout the documents.\n",
      "\n",
      "##############################\n",
      "Question : What is name of the car ?\n",
      "Answer: The name of the car is Tesla Model 3.\n",
      "\n",
      "##############################\n",
      "Question : What is the price of the car ?\n",
      "Answer: According to the context, the prices of the different models are as follows:\n",
      "\n",
      "* Tesla Model 3 (base) - starting at $40,630\n",
      "* Tesla Model 3 Performance - starting at $51,300\n",
      "* Polestar 2 - starting at $51,100\n",
      "* BMW i4 - starting at $54,000\n",
      "\n",
      "Please note that prices may vary depending on the trim level, options, and location.\n",
      "\n",
      "##############################\n",
      "Question : What is the year of production of the car ?\n",
      "Answer: Sorry I don't know the answer. Try contacting admin / soulayman or looking on web for answers\n",
      "\n",
      "##############################\n",
      "Question : How much HP does the car have ?\n",
      "Answer: Based on the context, I found that the Model 3 Performance has 510 horsepower.\n",
      "\n",
      "##############################\n",
      "Question : How much time it takes the car to reach 60 mph ?\n",
      "Answer: I don't have that information. Sorry I don't know the answer, try contacting admin / soulayman or looking on web for answers.\n",
      "\n",
      "##############################\n",
      "Question : How much is the range of the car ?\n",
      "Answer: The question is based on the context provided. According to the document, the updated Tesla Model 3 has three distinct trims with different estimated driving ranges:\n",
      "\n",
      "1. The base rear-wheel-drive model has a claimed range of 272 miles.\n",
      "2. Upgrading to the Long Range model increases the estimated range to 341 miles.\n",
      "3. The Model 3 Performance sacrifices some range for more power, but its estimated range is still pretty good at 296 miles per charge.\n",
      "\n",
      "So, the answer depends on which trim level you choose!\n",
      "\n",
      "##############################\n",
      "Question : How much is the the fuel rating of the car ?\n",
      "Answer: According to the text, the various versions of the Model 3 are rated between 113 MPGe and 138 MPGe by the EPA. However, our test vehicle managed only 84 MPGe when we took it on our 75-mph highway fuel economy test.\n",
      "\n",
      "So, I can't provide a single answer for the fuel rating as it depends on the version of the car.\n",
      "\n",
      "##############################\n"
     ]
    }
   ],
   "source": [
    "# Put your prompts / questions here\n",
    "\n",
    "questions = [\n",
    "\"What topic the document is about ?\",\n",
    "\"What is the name of the website in the document ?\",\n",
    "\"What is name of the car ?\",\n",
    "\"What is the price of the car ?\",\n",
    "\"What is the year of production of the car ?\",\n",
    "\"How much HP does the car have ?\",\n",
    "\"How much time it takes the car to reach 60 mph ?\",\n",
    "\"How much is the range of the car ?\",\n",
    "\"How much is the the fuel rating of the car ?\",\n",
    "]\n",
    "\n",
    "for question in questions:\n",
    "    print(f\"Question : {question}\")\n",
    "    print(f\"Answer: {chain.invoke({\"question\" : question})}\\n\")\n",
    "    print(\"#\"*30)"
   ]
  }
 ],
 "metadata": {
  "kernelspec": {
   "display_name": "llama3_requirements",
   "language": "python",
   "name": "python3"
  },
  "language_info": {
   "codemirror_mode": {
    "name": "ipython",
    "version": 3
   },
   "file_extension": ".py",
   "mimetype": "text/x-python",
   "name": "python",
   "nbconvert_exporter": "python",
   "pygments_lexer": "ipython3",
   "version": "3.12.2"
  }
 },
 "nbformat": 4,
 "nbformat_minor": 2
}
